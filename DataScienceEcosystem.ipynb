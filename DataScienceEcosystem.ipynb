{
 "cells": [
  {
   "cell_type": "markdown",
   "id": "4d9a2cb1-14b6-47b2-8659-67128e60feb9",
   "metadata": {
    "tags": []
   },
   "source": [
    "# Data Science Tools and Ecosystems"
   ]
  },
  {
   "cell_type": "markdown",
   "id": "5a4a02d6-d3c6-4680-b8ee-689c750d0bb3",
   "metadata": {
    "tags": []
   },
   "source": [
    "#\n",
    "In this notebook, Data Science Tools and Ecosystem are summarized."
   ]
  },
  {
   "cell_type": "markdown",
   "id": "51cba848-b5e1-41f9-b5c0-6a3247714c3e",
   "metadata": {
    "tags": []
   },
   "source": [
    "#\n",
    "**Objectives**\n",
    "\n",
    "- List of popular languages for Data Science\n",
    "- List of popular libraries used for Data Science\n",
    "- List of popular Data Science tools\n",
    "- Examples of evaluationg arithmetic expression in Python"
   ]
  },
  {
   "cell_type": "markdown",
   "id": "5942aecc-5967-4a35-aeb9-e695ac243bf4",
   "metadata": {
    "tags": []
   },
   "source": [
    "#\n",
    "Some of the popular languages that Data Scientists use are:\n",
    "1. Python\n",
    "2. R\n",
    "3. C++\n",
    "4. SQL\n",
    "5. Java"
   ]
  },
  {
   "cell_type": "markdown",
   "id": "4869696a-5388-4bd3-94fe-f3bc6bd835f5",
   "metadata": {
    "tags": []
   },
   "source": [
    "#\n",
    "Some of the commonly used libraries used by Data Scientists include:\n",
    "1. Panda\n",
    "2. NumPy\n",
    "3. SciPy\n",
    "4. Matplotlib"
   ]
  },
  {
   "cell_type": "markdown",
   "id": "3f763e52-d406-4610-96d9-11850830399d",
   "metadata": {
    "tags": []
   },
   "source": [
    "#\n",
    "|Data Science Tools|\n",
    "|-------------------|\n",
    "|RStudio|\n",
    "|Apache Spark|\n",
    "|TensorFlow|"
   ]
  },
  {
   "cell_type": "markdown",
   "id": "9f6371fa-66bf-4444-8fd8-d01ffafad603",
   "metadata": {
    "tags": []
   },
   "source": [
    "### Below are a few examples of evaluating arithmetic expressions in Python."
   ]
  },
  {
   "cell_type": "markdown",
   "id": "1b72abe4-36d9-40c7-91c2-7daa88396f1e",
   "metadata": {
    "tags": []
   },
   "source": [
    "#\n",
    "This a simple arithmetic expression to mutiply then add integers."
   ]
  },
  {
   "cell_type": "code",
   "execution_count": 23,
   "id": "66f48915-e1ac-4196-a064-e44d95f02942",
   "metadata": {
    "tags": []
   },
   "outputs": [
    {
     "data": {
      "text/plain": [
       "17"
      ]
     },
     "execution_count": 23,
     "metadata": {},
     "output_type": "execute_result"
    }
   ],
   "source": [
    "(3*4)+5"
   ]
  },
  {
   "cell_type": "markdown",
   "id": "5088beb6-e16c-4b06-b6d9-ca55ef1debc6",
   "metadata": {
    "tags": []
   },
   "source": [
    "#\n",
    "This will convert 200 minutes to hours by diving by 60."
   ]
  },
  {
   "cell_type": "code",
   "execution_count": 24,
   "id": "4e415eee-ba56-4a4d-bcba-ec2b5665352a",
   "metadata": {
    "tags": []
   },
   "outputs": [
    {
     "data": {
      "text/plain": [
       "3.3333333333333335"
      ]
     },
     "execution_count": 24,
     "metadata": {},
     "output_type": "execute_result"
    }
   ],
   "source": [
    "200/60"
   ]
  },
  {
   "cell_type": "code",
   "execution_count": null,
   "id": "aef095d5-3cac-447c-9514-04f5bb7b40a0",
   "metadata": {},
   "outputs": [],
   "source": []
  }
 ],
 "metadata": {
  "kernelspec": {
   "display_name": "Python",
   "language": "python",
   "name": "conda-env-python-py"
  },
  "language_info": {
   "codemirror_mode": {
    "name": "ipython",
    "version": 3
   },
   "file_extension": ".py",
   "mimetype": "text/x-python",
   "name": "python",
   "nbconvert_exporter": "python",
   "pygments_lexer": "ipython3",
   "version": "3.7.12"
  }
 },
 "nbformat": 4,
 "nbformat_minor": 5
}
